{
  "nbformat": 4,
  "nbformat_minor": 0,
  "metadata": {
    "kernelspec": {
      "display_name": "Python 3",
      "language": "python",
      "name": "python3"
    },
    "language_info": {
      "codemirror_mode": {
        "name": "ipython",
        "version": 3
      },
      "file_extension": ".py",
      "mimetype": "text/x-python",
      "name": "python",
      "nbconvert_exporter": "python",
      "pygments_lexer": "ipython3",
      "version": "3.7.4"
    },
    "colab": {
      "name": "Modul 1 - Pengenalan Python dan Bahasa Pemrograman.ipynb",
      "provenance": [],
      "collapsed_sections": [],
      "include_colab_link": true
    }
  },
  "cells": [
    {
      "cell_type": "markdown",
      "metadata": {
        "id": "view-in-github",
        "colab_type": "text"
      },
      "source": [
        "<a href=\"https://colab.research.google.com/github/eliyanto29/Python-Course-OA-DIGITALENT/blob/master/Modul_1_Pengenalan_Python_dan_Bahasa_Pemrograman.ipynb\" target=\"_parent\"><img src=\"https://colab.research.google.com/assets/colab-badge.svg\" alt=\"Open In Colab\"/></a>"
      ]
    },
    {
      "cell_type": "markdown",
      "metadata": {
        "id": "4L3_Pvo9y5Wv",
        "colab_type": "text"
      },
      "source": [
        "![alt text](https://drive.google.com/uc?id=1-Uk2vrv2SdwVqguPUd51KRlInCQTE3ny\n",
        ")"
      ]
    },
    {
      "cell_type": "markdown",
      "metadata": {
        "id": "RzBNVwLsljkt",
        "colab_type": "text"
      },
      "source": [
        "#Pengenalan Python dan Bahasa Pemrograman"
      ]
    },
    {
      "cell_type": "markdown",
      "metadata": {
        "id": "QxUyiMShlVvL",
        "colab_type": "text"
      },
      "source": [
        "##Luaran Pembelajaran\n",
        "- Dasar-dasar pemrograman komputer;\n",
        "- Mengatur lingkungan pemrograman;\n",
        "- Compilation vs interpretation;\n",
        "- Pengantar bahasa pemrograman Python.\n"
      ]
    },
    {
      "cell_type": "code",
      "metadata": {
        "id": "TfaDiuIvlVvO",
        "colab_type": "code",
        "outputId": "11e93c33-afcb-4c11-deca-28dc44a15d2c",
        "colab": {
          "base_uri": "https://localhost:8080/",
          "height": 34
        }
      },
      "source": [
        "# Program Pertama\n",
        "\n",
        "print(\"Hello World\")"
      ],
      "execution_count": 1,
      "outputs": [
        {
          "output_type": "stream",
          "text": [
            "Hello World\n"
          ],
          "name": "stdout"
        }
      ]
    },
    {
      "cell_type": "markdown",
      "metadata": {
        "id": "RatSyCahlVvf",
        "colab_type": "text"
      },
      "source": [
        "## Instalasi python dan tools\n",
        "Cara dibawah ini pilih salah satu:\n",
        "\n",
        "1. Tidak perlu install apapun -> Pakai **sandbox** atau **Google Colab** (klik link colab setiap notebook)\n",
        "2. Install minimal python -> download di [python.org](https://www.python.org/) (Sudah termasuk package manager pip dan IDLE)\n",
        "> Saat menginstall, silakan centang **add to path variable** dan **change minimum path length** \n",
        "3. Install miniconda (minimum anaconda) - Command Line Interface (CLI) only [miniconda](https://docs.conda.io/en/latest/miniconda.html)\n",
        "4. Install Anaconda - Graphical User Interface (GUI) (sudah bisa install spyder, VSCode, dll) [download](https://www.anaconda.com/products/individual)\n",
        "\n",
        "### Editor & working space \n",
        "1. IDLE dari python.org\n",
        "2. Visual Studio Code -> Rcmd: install ekstensi `python` dari microsoft. [download](https://code.visualstudio.com/)\n",
        "3. Jupyter notebook di CLI baik menggunakan `pip` atau `conda`. [Install](https://jupyter.org/install)\n",
        "\n",
        "### CLI only untuk linux\n",
        "* bisa menggunakan `curl` atau `wget`"
      ]
    }
  ]
}