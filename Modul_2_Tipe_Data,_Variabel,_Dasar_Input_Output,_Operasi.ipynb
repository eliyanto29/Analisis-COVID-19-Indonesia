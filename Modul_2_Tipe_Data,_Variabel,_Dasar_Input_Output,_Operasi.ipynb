{
  "nbformat": 4,
  "nbformat_minor": 0,
  "metadata": {
    "celltoolbar": "Slideshow",
    "kernelspec": {
      "display_name": "Python 3",
      "language": "python",
      "name": "python3"
    },
    "language_info": {
      "codemirror_mode": {
        "name": "ipython",
        "version": 3
      },
      "file_extension": ".py",
      "mimetype": "text/x-python",
      "name": "python",
      "nbconvert_exporter": "python",
      "pygments_lexer": "ipython3",
      "version": "3.7.4"
    },
    "rise": {
      "auto_select": "none",
      "auto_select_fragment": false,
      "footer": "<h3 style='padding:10px;color:rgb(59, 117, 158);font-weight:bold'>netacad Indonesia</h3>",
      "header": "<h2 style='padding:10px;color:rgb(59, 117, 158);font-weight:bold'>Python - PCAP</h2>",
      "scroll": true,
      "theme": "sky",
      "width": "90%"
    },
    "colab": {
      "name": "Copy of Modul 2 - Tipe Data, Variabel, Dasar Input Output, Operasi.ipynb",
      "provenance": [],
      "include_colab_link": true
    },
    "accelerator": "GPU"
  },
  "cells": [
    {
      "cell_type": "markdown",
      "metadata": {
        "id": "view-in-github",
        "colab_type": "text"
      },
      "source": [
        "<a href=\"https://colab.research.google.com/github/eliyanto29/Python-Course-OA-DIGITALENT/blob/master/Copy_of_Modul_2_Tipe_Data%2C_Variabel%2C_Dasar_Input_Output%2C_Operasi.ipynb\" target=\"_parent\"><img src=\"https://colab.research.google.com/assets/colab-badge.svg\" alt=\"Open In Colab\"/></a>"
      ]
    },
    {
      "cell_type": "markdown",
      "metadata": {
        "id": "z2HwvlIa1abm",
        "colab_type": "text"
      },
      "source": [
        "![alt text](https://drive.google.com/uc?id=1rn12eqZRxkkeQbG9lSbtQsECFR-2d72a)"
      ]
    },
    {
      "cell_type": "markdown",
      "metadata": {
        "id": "5PQ3nZxXkmlt",
        "colab_type": "text"
      },
      "source": [
        "# Tipe data, Variable dan operasi dasar"
      ]
    },
    {
      "cell_type": "markdown",
      "metadata": {
        "id": "5EdwWJjckml9",
        "colab_type": "text"
      },
      "source": [
        "## Luaran pembelajaran\n",
        "\n",
        "- Tipe data dan metode dasar untuk memformat, mengkonversi, input dan output data;\n",
        "- Operator;\n",
        "- Variabel."
      ]
    },
    {
      "cell_type": "markdown",
      "metadata": {
        "id": "_KhS0Kimkml_",
        "colab_type": "text"
      },
      "source": [
        "## 2.1.1 Program Pertama\n",
        "\n",
        "- mengenal fungsi `print()`;\n",
        "- tanda kurung buka;\n",
        "- tanda kutip;\n",
        "- kalimat 1 baris: `Hello, World!`;\n",
        "- fungsi beberapa tanda kutip lain;\n",
        "- tanda kurung tutup."
      ]
    },
    {
      "cell_type": "code",
      "metadata": {
        "id": "Wz9BakUGkmmD",
        "colab_type": "code",
        "colab": {
          "base_uri": "https://localhost:8080/",
          "height": 51
        },
        "outputId": "c5c5137c-f2ef-48e8-cad4-c4ec02b138cd"
      },
      "source": [
        "print(\"Hello, World!!!!!!\")\n",
        "print(\"Goodbye World!!!\")\n"
      ],
      "execution_count": 1,
      "outputs": [
        {
          "output_type": "stream",
          "text": [
            "Hello, World!!!!!!\n",
            "Goodbye World!!!\n"
          ],
          "name": "stdout"
        }
      ]
    },
    {
      "cell_type": "markdown",
      "metadata": {
        "id": "3cw_cBE-kmmX",
        "colab_type": "text"
      },
      "source": [
        "## Lab\n",
        "- Cetak kalimat \"Hello, Python!\"\n",
        "- Cetak nama pertamamu\n",
        "- Cetak nama pertamamu tanpa petik\n",
        "- apakah ada bedanya double quote \"\" dan single quote ' ?"
      ]
    },
    {
      "cell_type": "code",
      "metadata": {
        "scrolled": true,
        "id": "JrsuI6TUkmma",
        "colab_type": "code",
        "colab": {
          "base_uri": "https://localhost:8080/",
          "height": 68
        },
        "outputId": "617a07d2-8636-4074-907c-025be84e178d"
      },
      "source": [
        "print(\"Hello, Python!\")\n",
        "print(\"Petik satu atau dua\")\n",
        "print('Petik satu atau dua')\n"
      ],
      "execution_count": 2,
      "outputs": [
        {
          "output_type": "stream",
          "text": [
            "Hello, Python!\n",
            "Petik satu atau dua\n",
            "Petik satu atau dua\n"
          ],
          "name": "stdout"
        }
      ]
    },
    {
      "cell_type": "markdown",
      "metadata": {
        "id": "JJ38WRUrkmmn",
        "colab_type": "text"
      },
      "source": [
        "## Formatting dengan Special Character\n",
        "- `\\` = karakter spesial \"escaping nature\"\n",
        "\n",
        "- `\\n` = untuk enter\n",
        "\n",
        "- `\\` = escaping karakter\n",
        "\n",
        "```python\n",
        "print() = berarti line kosong\n",
        "```\n",
        "\n",
        "Tidak boleh ada 2 perintah dalam 1 baris\n",
        "```python\n",
        "print(\"nama depan\") print (\"nama belakang\")\n",
        "```"
      ]
    },
    {
      "cell_type": "code",
      "metadata": {
        "scrolled": true,
        "id": "AKnGpXUskmmq",
        "colab_type": "code",
        "colab": {
          "base_uri": "https://localhost:8080/",
          "height": 102
        },
        "outputId": "0eb5887f-9eb5-4ebe-b92d-80d24c5ad765"
      },
      "source": [
        "print(\"seketika langit menjadi gelap\\nkemudian hujan turun dengan deras.\")\n",
        "print()\n",
        "print(\"ibu memasak di dapur\\ndan kakak menyapu di halaman.\")\n",
        "  "
      ],
      "execution_count": 3,
      "outputs": [
        {
          "output_type": "stream",
          "text": [
            "seketika langit menjadi gelap\n",
            "kemudian hujan turun dengan deras.\n",
            "\n",
            "ibu memasak di dapur\n",
            "dan kakak menyapu di halaman.\n"
          ],
          "name": "stdout"
        }
      ]
    },
    {
      "cell_type": "code",
      "metadata": {
        "cell_style": "split",
        "id": "XWib7dZ7kmnI",
        "colab_type": "code",
        "colab": {
          "base_uri": "https://localhost:8080/",
          "height": 34
        },
        "outputId": "cff87427-9f90-4497-dfcf-f4f4e7325dfd"
      },
      "source": [
        "print(\"\\\"\")\n"
      ],
      "execution_count": 4,
      "outputs": [
        {
          "output_type": "stream",
          "text": [
            "\"\n"
          ],
          "name": "stdout"
        }
      ]
    },
    {
      "cell_type": "code",
      "metadata": {
        "cell_style": "split",
        "scrolled": false,
        "id": "tBihNEbckmnU",
        "colab_type": "code",
        "colab": {
          "base_uri": "https://localhost:8080/",
          "height": 34
        },
        "outputId": "96e1afc6-afb5-4d7d-ad5f-e08a72617fcf"
      },
      "source": [
        "print(\"\\\\\")\n"
      ],
      "execution_count": 5,
      "outputs": [
        {
          "output_type": "stream",
          "text": [
            "\\\n"
          ],
          "name": "stdout"
        }
      ]
    },
    {
      "cell_type": "code",
      "metadata": {
        "id": "NSL4tY-5kmnc",
        "colab_type": "code",
        "colab": {
          "base_uri": "https://localhost:8080/",
          "height": 34
        },
        "outputId": "2f942154-2fa8-4832-dcbe-fa4d737cbe45"
      },
      "source": [
        "# Dia mengatakan \"halo\"\n",
        "print(\"Dia mengatakan \\\"halo\\\"\")\n"
      ],
      "execution_count": 6,
      "outputs": [
        {
          "output_type": "stream",
          "text": [
            "Dia mengatakan \"halo\"\n"
          ],
          "name": "stdout"
        }
      ]
    },
    {
      "cell_type": "markdown",
      "metadata": {
        "id": "LW0GDn9akmnl",
        "colab_type": "text"
      },
      "source": [
        "Beberapa kalimat dapat dipisahkan dengan koma"
      ]
    },
    {
      "cell_type": "code",
      "metadata": {
        "id": "Q-poAOLIkmnn",
        "colab_type": "code",
        "colab": {
          "base_uri": "https://localhost:8080/",
          "height": 34
        },
        "outputId": "953fea36-ac41-47d2-f420-b941bcfaa65b"
      },
      "source": [
        "print(\"The itsy bitsy spider.\" , \"climbed up.\" , \"the waterspout.\")"
      ],
      "execution_count": 7,
      "outputs": [
        {
          "output_type": "stream",
          "text": [
            "The itsy bitsy spider. climbed up. the waterspout.\n"
          ],
          "name": "stdout"
        }
      ]
    },
    {
      "cell_type": "code",
      "metadata": {
        "id": "ritCubrtkmnv",
        "colab_type": "code",
        "colab": {
          "base_uri": "https://localhost:8080/",
          "height": 51
        },
        "outputId": "f17b0997-8308-4b8a-800d-be9dda1654bc"
      },
      "source": [
        "print(\"My name is\", \"Python.\")\n",
        "print(\"Monty Python.\")\n"
      ],
      "execution_count": 8,
      "outputs": [
        {
          "output_type": "stream",
          "text": [
            "My name is Python.\n",
            "Monty Python.\n"
          ],
          "name": "stdout"
        }
      ]
    },
    {
      "cell_type": "markdown",
      "metadata": {
        "id": "VOUWmBD2kmn1",
        "colab_type": "text"
      },
      "source": [
        "```end=\" \"``` digunakan untuk meletakkan argumen setelah argumen pertama"
      ]
    },
    {
      "cell_type": "code",
      "metadata": {
        "id": "2t-ZXbfDkmn3",
        "colab_type": "code",
        "colab": {
          "base_uri": "https://localhost:8080/",
          "height": 34
        },
        "outputId": "e5160b61-4217-44ca-d7a0-37b01c69a4d7"
      },
      "source": [
        "print(\"My name is\", \"Python.\", end=\" \")\n",
        "print(\"Monty Python.\")\n"
      ],
      "execution_count": 9,
      "outputs": [
        {
          "output_type": "stream",
          "text": [
            "My name is Python. Monty Python.\n"
          ],
          "name": "stdout"
        }
      ]
    },
    {
      "cell_type": "code",
      "metadata": {
        "id": "Lto7jZhfkmn_",
        "colab_type": "code",
        "colab": {
          "base_uri": "https://localhost:8080/",
          "height": 34
        },
        "outputId": "07dbf24b-57c8-4201-800c-652ec3d3c545"
      },
      "source": [
        "print(\"My name is \", end=\" ## \")\n",
        "print(\"Monty Python.\")\n"
      ],
      "execution_count": 10,
      "outputs": [
        {
          "output_type": "stream",
          "text": [
            "My name is  ## Monty Python.\n"
          ],
          "name": "stdout"
        }
      ]
    },
    {
      "cell_type": "markdown",
      "metadata": {
        "id": "27umUhyOkmoI",
        "colab_type": "text"
      },
      "source": [
        "```sep=\" \" ``` digunakan untuk memisahkan antar argumen dengan string kosong atau karakter lain"
      ]
    },
    {
      "cell_type": "code",
      "metadata": {
        "id": "GBZTgHgBkmoK",
        "colab_type": "code",
        "colab": {
          "base_uri": "https://localhost:8080/",
          "height": 34
        },
        "outputId": "76835c49-c1c3-4641-c0d0-708080814ec1"
      },
      "source": [
        "print(\"My\", \"name\", \"is\", \"Monty\", \"Python.\", sep=\"-\")"
      ],
      "execution_count": 11,
      "outputs": [
        {
          "output_type": "stream",
          "text": [
            "My-name-is-Monty-Python.\n"
          ],
          "name": "stdout"
        }
      ]
    },
    {
      "cell_type": "code",
      "metadata": {
        "id": "I4fJJRTbkmoR",
        "colab_type": "code",
        "colab": {
          "base_uri": "https://localhost:8080/",
          "height": 51
        },
        "outputId": "ba4bd3df-8d8c-4a9d-ed89-35c3c1f8883a"
      },
      "source": [
        "print(\"My\", \"name\", \"is\", sep=\"_\", end=\"*\")\n",
        "print(\"Monty\", \"Python.\", sep=\"*\", end=\"*\\n\")\n",
        "print(\"Digital\", \"Talent\", \"Dahsyat\", sep=\"_\", end=\"*\")\n",
        "print(\"Guntur\", \"Budi.\", sep=\"*\", end=\"*\\n\")"
      ],
      "execution_count": 12,
      "outputs": [
        {
          "output_type": "stream",
          "text": [
            "My_name_is*Monty*Python.*\n",
            "Digital_Talent_Dahsyat*Guntur*Budi.*\n"
          ],
          "name": "stdout"
        }
      ]
    },
    {
      "cell_type": "markdown",
      "metadata": {
        "id": "8rETIXfekmoX",
        "colab_type": "text"
      },
      "source": [
        "## Lab\n",
        "\n",
        "Buatlah Program untuk menghasilkan output:\n",
        "`Programming***Essentials***in...Python`"
      ]
    },
    {
      "cell_type": "code",
      "metadata": {
        "id": "Vo6X8jlCkmoZ",
        "colab_type": "code",
        "colab": {
          "base_uri": "https://localhost:8080/",
          "height": 34
        },
        "outputId": "1e719d87-2eab-4f8a-8961-0f33ad5a90fa"
      },
      "source": [
        "print(\"Programming\",\"Essentials\",\"in\",sep=\"***\",end=\"...\")\n",
        "print(\"Python\")\n"
      ],
      "execution_count": 13,
      "outputs": [
        {
          "output_type": "stream",
          "text": [
            "Programming***Essentials***in...Python\n"
          ],
          "name": "stdout"
        }
      ]
    },
    {
      "cell_type": "markdown",
      "metadata": {
        "id": "aWMMSai7kmog",
        "colab_type": "text"
      },
      "source": [
        "## Lab\n",
        "\n",
        "Buatlah program dengan output sebagai berikut:\n",
        "```\n",
        "    *\n",
        "   * *\n",
        "  *   *\n",
        " *     *\n",
        "***   ***\n",
        "  *   *\n",
        "  *   *\n",
        "  ***** ```"
      ]
    },
    {
      "cell_type": "code",
      "metadata": {
        "id": "-TGiZ3cHkmoi",
        "colab_type": "code",
        "colab": {
          "base_uri": "https://localhost:8080/",
          "height": 306
        },
        "outputId": "62e4f889-bf41-49d8-c557-17fd5baa64cf"
      },
      "source": [
        "print(\"    *\\n   * *\\n  *   *\\n *     *\\n***   ***\\n  *   *\\n  *   *\\n  *****\\n\"*2)\n"
      ],
      "execution_count": 14,
      "outputs": [
        {
          "output_type": "stream",
          "text": [
            "    *\n",
            "   * *\n",
            "  *   *\n",
            " *     *\n",
            "***   ***\n",
            "  *   *\n",
            "  *   *\n",
            "  *****\n",
            "    *\n",
            "   * *\n",
            "  *   *\n",
            " *     *\n",
            "***   ***\n",
            "  *   *\n",
            "  *   *\n",
            "  *****\n",
            "\n"
          ],
          "name": "stdout"
        }
      ]
    },
    {
      "cell_type": "code",
      "metadata": {
        "id": "4mWZu-U2kmoo",
        "colab_type": "code",
        "colab": {
          "base_uri": "https://localhost:8080/",
          "height": 153
        },
        "outputId": "2aacf392-25d0-41c6-df7f-4711b65c2018"
      },
      "source": [
        "print(\"    *    \"*2)\n",
        "print(\"   * *   \"*2)\n",
        "print(\"  *   *  \"*2)\n",
        "print(\" *     * \"*2)\n",
        "print(\"***   ***\"*2)\n",
        "print(\"  *   *  \"*2)\n",
        "print(\"  *   *  \"*2)\n",
        "print(\"  *****  \"*2)\n"
      ],
      "execution_count": 15,
      "outputs": [
        {
          "output_type": "stream",
          "text": [
            "    *        *    \n",
            "   * *      * *   \n",
            "  *   *    *   *  \n",
            " *     *  *     * \n",
            "***   ******   ***\n",
            "  *   *    *   *  \n",
            "  *   *    *   *  \n",
            "  *****    *****  \n"
          ],
          "name": "stdout"
        }
      ]
    },
    {
      "cell_type": "markdown",
      "metadata": {
        "id": "w54Twerpkmou",
        "colab_type": "text"
      },
      "source": [
        "## 2.1.2 Literals\n",
        "literal merupakan notasi untuk mensimbolkan nilai, dapat berupa string, boolean maupun angka (integer dan float)"
      ]
    },
    {
      "cell_type": "code",
      "metadata": {
        "id": "KJXVGBfZkmov",
        "colab_type": "code",
        "colab": {
          "base_uri": "https://localhost:8080/",
          "height": 85
        },
        "outputId": "897058f3-e8ff-4f0e-8580-0c37ec51be59"
      },
      "source": [
        "# hasil output akan terlihat sama, namun nilai tersebut tersimpan berbeda dalam memori komputer\n",
        "print(\"2\")\n",
        "print(2)\n",
        "\n",
        "print(type(\"2\"))\n",
        "print(type(2))\n"
      ],
      "execution_count": 1,
      "outputs": [
        {
          "output_type": "stream",
          "text": [
            "2\n",
            "2\n",
            "<class 'str'>\n",
            "<class 'int'>\n"
          ],
          "name": "stdout"
        }
      ]
    },
    {
      "cell_type": "markdown",
      "metadata": {
        "id": "GVryhSt1kmo3",
        "colab_type": "text"
      },
      "source": [
        "## Integers vs Floats\n"
      ]
    },
    {
      "cell_type": "code",
      "metadata": {
        "id": "dZDl_wdakmo5",
        "colab_type": "code",
        "colab": {
          "base_uri": "https://localhost:8080/",
          "height": 51
        },
        "outputId": "a4502a05-eb6b-4220-b313-6417a8c2444c"
      },
      "source": [
        "print(5, \"mempunyai tipe\", type(5))\n",
        "\n",
        "print(5.0, \"mempunyai tipe\", type(5.0))\n"
      ],
      "execution_count": 1,
      "outputs": [
        {
          "output_type": "stream",
          "text": [
            "5 mempunyai tipe <class 'int'>\n",
            "5.0 mempunyai tipe <class 'float'>\n"
          ],
          "name": "stdout"
        }
      ]
    },
    {
      "cell_type": "markdown",
      "metadata": {
        "id": "7E-fEZgAkmo_",
        "colab_type": "text"
      },
      "source": [
        "\n",
        "## Penulisan Float dan Integer\n",
        "Python versi 3 membolehkan pemisahan digit integer dengan underscore \"_\"\n",
        "agar mudah dibaca\n",
        "```python\n",
        "print (10_000_000)```\n",
        "\n",
        "Float dipisahkan dengan .(titik) bukan ,(koma)\n",
        "cara penulisan float bisa 3 cara\n",
        "\n",
        "- 4.0\n",
        "- .4 (terbaca nol koma 4)\n",
        "- 4. (terbaca 4 koma nol)\n",
        "\n",
        "> 3e08 berarti $ 3 x 10 ^ 8 $  \n",
        "3e-08 berarti $ 3 x 10 ^ {-8} $\n"
      ]
    },
    {
      "cell_type": "code",
      "metadata": {
        "id": "ny5eNfFmkmpA",
        "colab_type": "code",
        "colab": {
          "base_uri": "https://localhost:8080/",
          "height": 51
        },
        "outputId": "c989da70-60c5-4921-e391-2631fd9cb7a2"
      },
      "source": [
        "print (0.000000003)\n",
        "print (3e-8)\n"
      ],
      "execution_count": 2,
      "outputs": [
        {
          "output_type": "stream",
          "text": [
            "3e-09\n",
            "3e-08\n"
          ],
          "name": "stdout"
        }
      ]
    },
    {
      "cell_type": "markdown",
      "metadata": {
        "id": "0TXx5_iokmpG",
        "colab_type": "text"
      },
      "source": [
        "## String\n",
        "\n",
        "Buatlah program untuk menghasilkan output `I'm Monty Python`"
      ]
    },
    {
      "cell_type": "code",
      "metadata": {
        "id": "F7EY5ejAkmpH",
        "colab_type": "code",
        "colab": {
          "base_uri": "https://localhost:8080/",
          "height": 102
        },
        "outputId": "9f38fd67-a36c-47e7-e745-e271e4301b6e"
      },
      "source": [
        "print(\"I'm Monty Python\")\n",
        "print(\"Jum'at\")\n",
        "print('\"Saya berpendapat python itu mudah\", kata Monty')\n",
        "print(\"1.5\")\n",
        "print(\"1000\")\n"
      ],
      "execution_count": 3,
      "outputs": [
        {
          "output_type": "stream",
          "text": [
            "I'm Monty Python\n",
            "Jum'at\n",
            "\"Saya berpendapat python itu mudah\", kata Monty\n",
            "1.5\n",
            "1000\n"
          ],
          "name": "stdout"
        }
      ]
    },
    {
      "cell_type": "code",
      "metadata": {
        "id": "C3qeVb9ekmpN",
        "colab_type": "code",
        "colab": {
          "base_uri": "https://localhost:8080/",
          "height": 51
        },
        "outputId": "a3960c62-848e-4ef3-f774-755de9855e16"
      },
      "source": [
        "#string kosong pun juga bernilai string\n",
        "print(\"\")\n",
        "print('')\n"
      ],
      "execution_count": 4,
      "outputs": [
        {
          "output_type": "stream",
          "text": [
            "\n",
            "\n"
          ],
          "name": "stdout"
        }
      ]
    },
    {
      "cell_type": "markdown",
      "metadata": {
        "id": "C5UaDEkvkmpV",
        "colab_type": "text"
      },
      "source": [
        "## Booelan\n",
        "Logika benar salah, 1 bernilai benar (True) dan 0 bernilai salah (False)"
      ]
    },
    {
      "cell_type": "code",
      "metadata": {
        "id": "NVaZxS-RkmpX",
        "colab_type": "code",
        "colab": {
          "base_uri": "https://localhost:8080/",
          "height": 85
        },
        "outputId": "1d6d16e9-36cc-40c0-87b0-74732972e6da"
      },
      "source": [
        "print(True)\n",
        "print(False)\n",
        "print (3>0)\n",
        "print (0>3)"
      ],
      "execution_count": 5,
      "outputs": [
        {
          "output_type": "stream",
          "text": [
            "True\n",
            "False\n",
            "True\n",
            "False\n"
          ],
          "name": "stdout"
        }
      ]
    },
    {
      "cell_type": "markdown",
      "metadata": {
        "id": "_OnxlS06kmpf",
        "colab_type": "text"
      },
      "source": [
        "## None"
      ]
    },
    {
      "cell_type": "code",
      "metadata": {
        "id": "W1hFDj63kmpg",
        "colab_type": "code",
        "colab": {
          "base_uri": "https://localhost:8080/",
          "height": 34
        },
        "outputId": "2698a85a-d92f-406b-f565-8f839d358dc0"
      },
      "source": [
        "print(None)"
      ],
      "execution_count": 6,
      "outputs": [
        {
          "output_type": "stream",
          "text": [
            "None\n"
          ],
          "name": "stdout"
        }
      ]
    },
    {
      "cell_type": "markdown",
      "metadata": {
        "id": "HRe9161Hkmpp",
        "colab_type": "text"
      },
      "source": [
        "## Lab\n",
        "Buat output seperti ini dalam satu line <br/>\n",
        "`\"I'm\"`<br/>\n",
        "`\"\"learning\"\"`<br/>\n",
        "`\"\"\"Python\"\"\"`"
      ]
    },
    {
      "cell_type": "code",
      "metadata": {
        "id": "RabTn_tXkmps",
        "colab_type": "code",
        "colab": {
          "base_uri": "https://localhost:8080/",
          "height": 153
        },
        "outputId": "7be840dc-7af9-416d-e469-27b4245fe32c"
      },
      "source": [
        "print('\"I\\'m\"\\n\"\"learning\"\"\\n\"\"\"Python\"\"\"')\n",
        "\n",
        "print(\"\"\"\n",
        "\"I'm\"\n",
        "\"\"learning\"\"\n",
        "\\\"\"\"Python\"\"\\\"\n",
        "\"\"\")"
      ],
      "execution_count": 7,
      "outputs": [
        {
          "output_type": "stream",
          "text": [
            "\"I'm\"\n",
            "\"\"learning\"\"\n",
            "\"\"\"Python\"\"\"\n",
            "\n",
            "\"I'm\"\n",
            "\"\"learning\"\"\n",
            "\"\"\"Python\"\"\"\n",
            "\n"
          ],
          "name": "stdout"
        }
      ]
    },
    {
      "cell_type": "markdown",
      "metadata": {
        "id": "ol210MGMkmp0",
        "colab_type": "text"
      },
      "source": [
        "# 2.1.3 Operator"
      ]
    },
    {
      "cell_type": "markdown",
      "metadata": {
        "id": "Fx2lBhyNkmp1",
        "colab_type": "text"
      },
      "source": [
        "### Operator Aritmetika\n",
        "\n",
        "| Operator | Arti                                                                                          | Contoh                  |\n",
        "|----------|--------------------------------------------------------------------------------------------------|--------------------------|\n",
        "| +        | Penambahan                                                                   | x + y                 |\n",
        "| -        | Pengurangan                                              | x - y                  |\n",
        "| *        | Perkalian                                                                            | x * y                    |\n",
        "| /        | Pembagian                                 | x / y                    |\n",
        "| %        | Modulo - Sisa Pembagian                                 | x % y (sisa pembagian of x/y) |\n",
        "| //       | Pembagian dan dibulatkan ke bawah | x // y                   |\n",
        "| **       | Eksponen - Pangkat                                             | x**y (x pangkat y)  |"
      ]
    },
    {
      "cell_type": "code",
      "metadata": {
        "id": "7GQwgNulkmp2",
        "colab_type": "code",
        "colab": {
          "base_uri": "https://localhost:8080/",
          "height": 85
        },
        "outputId": "d93d4f21-97ab-4026-c6f6-0f249111c0ba"
      },
      "source": [
        "#eksponen/pangkat\n",
        "print(2 ** 3)\n",
        "print(2 ** 3.)\n",
        "print(2. ** 3)\n",
        "print(2. ** 3.)\n"
      ],
      "execution_count": 8,
      "outputs": [
        {
          "output_type": "stream",
          "text": [
            "8\n",
            "8.0\n",
            "8.0\n",
            "8.0\n"
          ],
          "name": "stdout"
        }
      ]
    },
    {
      "cell_type": "code",
      "metadata": {
        "id": "-qr-DeAQkmp7",
        "colab_type": "code",
        "colab": {
          "base_uri": "https://localhost:8080/",
          "height": 85
        },
        "outputId": "63724a48-448d-46ac-e10a-c1fb650a4d66"
      },
      "source": [
        "#pembagian\n",
        "print(6 / 3)\n",
        "print(6 / 3.)\n",
        "print(6. / 3)\n",
        "print(6. / 3.)\n"
      ],
      "execution_count": 9,
      "outputs": [
        {
          "output_type": "stream",
          "text": [
            "2.0\n",
            "2.0\n",
            "2.0\n",
            "2.0\n"
          ],
          "name": "stdout"
        }
      ]
    },
    {
      "cell_type": "code",
      "metadata": {
        "id": "ytrRsE8lkmqA",
        "colab_type": "code",
        "colab": {
          "base_uri": "https://localhost:8080/",
          "height": 85
        },
        "outputId": "929666e3-216a-4a9c-87b3-2deb04ab8df7"
      },
      "source": [
        "#pembagian dengan pembulatan ke bawah\n",
        "print(6 // 3)\n",
        "print(6 // 3.)\n",
        "print(6. // 3)\n",
        "print(6. // 3.)\n"
      ],
      "execution_count": 10,
      "outputs": [
        {
          "output_type": "stream",
          "text": [
            "2\n",
            "2.0\n",
            "2.0\n",
            "2.0\n"
          ],
          "name": "stdout"
        }
      ]
    },
    {
      "cell_type": "code",
      "metadata": {
        "id": "gEZJEzYwkmqG",
        "colab_type": "code",
        "colab": {
          "base_uri": "https://localhost:8080/",
          "height": 85
        },
        "outputId": "1302fbeb-404f-460f-c8c6-c4cd95adec9e"
      },
      "source": [
        "print(6 // 4)\n",
        "print(6. // 4)\n",
        "\n",
        "print(6 / 4)\n",
        "print(6. / 4)\n",
        "\n",
        "#Penting ! pembulatan selalu ke nilai bawahnya\n"
      ],
      "execution_count": 11,
      "outputs": [
        {
          "output_type": "stream",
          "text": [
            "1\n",
            "1.0\n",
            "1.5\n",
            "1.5\n"
          ],
          "name": "stdout"
        }
      ]
    },
    {
      "cell_type": "code",
      "metadata": {
        "id": "oLKExXdKkmqN",
        "colab_type": "code",
        "colab": {
          "base_uri": "https://localhost:8080/",
          "height": 51
        },
        "outputId": "43bf5246-26b3-48e3-9f43-d6e16e62569f"
      },
      "source": [
        "print(-6 // 4)\n",
        "print(6. // -4)\n"
      ],
      "execution_count": 12,
      "outputs": [
        {
          "output_type": "stream",
          "text": [
            "-2\n",
            "-2.0\n"
          ],
          "name": "stdout"
        }
      ]
    },
    {
      "cell_type": "code",
      "metadata": {
        "id": "Zqami993kmqT",
        "colab_type": "code",
        "colab": {
          "base_uri": "https://localhost:8080/",
          "height": 34
        },
        "outputId": "6c9ce192-76af-4cd5-ecae-1f5ed6359e15"
      },
      "source": [
        "#modulo/sisa bagi\n",
        "print(14 % 4)\n"
      ],
      "execution_count": 13,
      "outputs": [
        {
          "output_type": "stream",
          "text": [
            "2\n"
          ],
          "name": "stdout"
        }
      ]
    },
    {
      "cell_type": "code",
      "metadata": {
        "id": "tvZ6H_8VkmqY",
        "colab_type": "code",
        "colab": {
          "base_uri": "https://localhost:8080/",
          "height": 51
        },
        "outputId": "56a1f88f-8ddb-4a30-ee4d-d23f96e5d879"
      },
      "source": [
        "print(-4 + 4)\n",
        "print(-4. + 8)\n"
      ],
      "execution_count": 14,
      "outputs": [
        {
          "output_type": "stream",
          "text": [
            "0\n",
            "4.0\n"
          ],
          "name": "stdout"
        }
      ]
    },
    {
      "cell_type": "markdown",
      "metadata": {
        "id": "fnTqVAHCkmqe",
        "colab_type": "text"
      },
      "source": [
        "### Urutan Operator"
      ]
    },
    {
      "cell_type": "code",
      "metadata": {
        "id": "BIv7D-cCkmqf",
        "colab_type": "code",
        "colab": {
          "base_uri": "https://localhost:8080/",
          "height": 34
        },
        "outputId": "f709e36f-c368-4818-aafb-4256d605b989"
      },
      "source": [
        "#perkalian lebih didahulukan dari penambahan\n",
        "2 + 3 * 5\n"
      ],
      "execution_count": 15,
      "outputs": [
        {
          "output_type": "execute_result",
          "data": {
            "text/plain": [
              "17"
            ]
          },
          "metadata": {
            "tags": []
          },
          "execution_count": 15
        }
      ]
    },
    {
      "cell_type": "code",
      "metadata": {
        "id": "k47iaJLikmqk",
        "colab_type": "code",
        "colab": {
          "base_uri": "https://localhost:8080/",
          "height": 34
        },
        "outputId": "89146cee-a832-48bf-d88b-b459c308cec8"
      },
      "source": [
        "#pengerjaan dari kiri ke kanan\n",
        "print(9 % 6 % 2)\n"
      ],
      "execution_count": 16,
      "outputs": [
        {
          "output_type": "stream",
          "text": [
            "1\n"
          ],
          "name": "stdout"
        }
      ]
    },
    {
      "cell_type": "code",
      "metadata": {
        "id": "uK5A_3B6kmqs",
        "colab_type": "code",
        "colab": {
          "base_uri": "https://localhost:8080/",
          "height": 34
        },
        "outputId": "497ed38c-d42e-4367-edf4-c8860bc7ecee"
      },
      "source": [
        "#pengerjaan dari kanan ke kiri\n",
        "print(2 ** 2 ** 3)\n"
      ],
      "execution_count": 17,
      "outputs": [
        {
          "output_type": "stream",
          "text": [
            "256\n"
          ],
          "name": "stdout"
        }
      ]
    },
    {
      "cell_type": "markdown",
      "metadata": {
        "id": "KkYabVHpkmq2",
        "colab_type": "text"
      },
      "source": [
        "| Prioritas| Operator |  ket   |\n",
        "|----------|----------|--------|\n",
        "| 1        | +, -     | unary  |\n",
        "| 2        | **       |        |\n",
        "| 3        | *, /, %  |        |\n",
        "| 4        | +, -     | binary |"
      ]
    },
    {
      "cell_type": "code",
      "metadata": {
        "id": "eqVm3HIOkmq3",
        "colab_type": "code",
        "colab": {
          "base_uri": "https://localhost:8080/",
          "height": 34
        },
        "outputId": "c17fd266-4f18-4be9-8f62-af22c23c860c"
      },
      "source": [
        "print((5 * ((25 % 13) + 100) / (2 * 13)) // 2)\n"
      ],
      "execution_count": 18,
      "outputs": [
        {
          "output_type": "stream",
          "text": [
            "10.0\n"
          ],
          "name": "stdout"
        }
      ]
    },
    {
      "cell_type": "markdown",
      "metadata": {
        "id": "AdZNNHajkmq9",
        "colab_type": "text"
      },
      "source": [
        "### Latihan\n",
        "\n",
        "`print((2 ** 4), (2 * 4.), (2 * 4))`<br/>\n",
        "`print((-2 / 4), (2 / 4), (2 // 4), (-2 // 4))`<br/>\n",
        "`print((2 % -4), (2 % 4), (2 ** 3 ** 2))`<br/>"
      ]
    },
    {
      "cell_type": "code",
      "metadata": {
        "id": "xh_6y73GAmqV",
        "colab_type": "code",
        "colab": {
          "base_uri": "https://localhost:8080/",
          "height": 187
        },
        "outputId": "30f5ff40-5a74-462f-97c2-649dad94765b"
      },
      "source": [
        "#1\n",
        "print(2**4)\n",
        "print(2*4.)\n",
        "print(2*4)\n",
        "\n",
        "#2\n",
        "print(-2/4)\n",
        "print(2/4)\n",
        "print(2//4)\n",
        "print(-2//4)\n",
        "\n",
        "#3\n",
        "print(2%-4)\n",
        "print(2%4)\n",
        "print(2**3**2)"
      ],
      "execution_count": 23,
      "outputs": [
        {
          "output_type": "stream",
          "text": [
            "16\n",
            "8.0\n",
            "8\n",
            "-0.5\n",
            "0.5\n",
            "0\n",
            "-1\n",
            "-2\n",
            "2\n",
            "512\n"
          ],
          "name": "stdout"
        }
      ]
    },
    {
      "cell_type": "markdown",
      "metadata": {
        "id": "nADtXQj_kmq_",
        "colab_type": "text"
      },
      "source": [
        "# 2.1.4 Variabel\n",
        "- Apa itu variabel?\n",
        "- Bagaimana Aturan Penamaannya?\n"
      ]
    },
    {
      "cell_type": "code",
      "metadata": {
        "id": "iPO4TIe7kmrF",
        "colab_type": "code",
        "colab": {
          "base_uri": "https://localhost:8080/",
          "height": 34
        },
        "outputId": "b4590626-cab9-4e41-8ca3-855af9106de3"
      },
      "source": [
        "# kamu bisa menaruh tipe data apapun dalam variabel\n",
        "var = 1 # bukan operasi matematika, namun operasi assignment i.e., var <-- 1\n",
        "print(var)\n"
      ],
      "execution_count": 24,
      "outputs": [
        {
          "output_type": "stream",
          "text": [
            "1\n"
          ],
          "name": "stdout"
        }
      ]
    },
    {
      "cell_type": "markdown",
      "metadata": {
        "id": "isNbAElzkmrL",
        "colab_type": "text"
      },
      "source": [
        "- baris pertama membuat variabel dengan nama `var`, dan diisi dengan nilai `1`.\n",
        "- baris kedua mencetak nilai dalam variabel ke dalam console"
      ]
    },
    {
      "cell_type": "code",
      "metadata": {
        "id": "8wR8Y0V_kmrM",
        "colab_type": "code",
        "colab": {
          "base_uri": "https://localhost:8080/",
          "height": 51
        },
        "outputId": "ac365ae2-a924-46e0-d9c3-2031293b7485"
      },
      "source": [
        "var = 1\n",
        "saldo = 1000.0\n",
        "namaKlien = 'John Doe'\n",
        "print(var, saldo, namaKlien)\n",
        "print(var)\n"
      ],
      "execution_count": 25,
      "outputs": [
        {
          "output_type": "stream",
          "text": [
            "1 1000.0 John Doe\n",
            "1\n"
          ],
          "name": "stdout"
        }
      ]
    },
    {
      "cell_type": "code",
      "metadata": {
        "id": "wHuOFzmUkmrV",
        "colab_type": "code",
        "colab": {
          "base_uri": "https://localhost:8080/",
          "height": 197
        },
        "outputId": "866779f8-fab4-4e5b-ca79-046fd70266fe"
      },
      "source": [
        "#case sensitive, huruf besar kecil perlu diperhatikan!\n",
        "var = 1\n",
        "print(Var) "
      ],
      "execution_count": 26,
      "outputs": [
        {
          "output_type": "error",
          "ename": "NameError",
          "evalue": "ignored",
          "traceback": [
            "\u001b[0;31m---------------------------------------------------------------------------\u001b[0m",
            "\u001b[0;31mNameError\u001b[0m                                 Traceback (most recent call last)",
            "\u001b[0;32m<ipython-input-26-7cfe12c3b77a>\u001b[0m in \u001b[0;36m<module>\u001b[0;34m()\u001b[0m\n\u001b[1;32m      1\u001b[0m \u001b[0;31m#case sensitive, huruf besar kecil perlu diperhatikan!\u001b[0m\u001b[0;34m\u001b[0m\u001b[0;34m\u001b[0m\u001b[0;34m\u001b[0m\u001b[0m\n\u001b[1;32m      2\u001b[0m \u001b[0mvar\u001b[0m \u001b[0;34m=\u001b[0m \u001b[0;36m1\u001b[0m\u001b[0;34m\u001b[0m\u001b[0;34m\u001b[0m\u001b[0m\n\u001b[0;32m----> 3\u001b[0;31m \u001b[0mprint\u001b[0m\u001b[0;34m(\u001b[0m\u001b[0mVar\u001b[0m\u001b[0;34m)\u001b[0m\u001b[0;34m\u001b[0m\u001b[0;34m\u001b[0m\u001b[0m\n\u001b[0m",
            "\u001b[0;31mNameError\u001b[0m: name 'Var' is not defined"
          ]
        }
      ]
    },
    {
      "cell_type": "code",
      "metadata": {
        "id": "bIbGgnThkmrd",
        "colab_type": "code",
        "colab": {
          "base_uri": "https://localhost:8080/",
          "height": 34
        },
        "outputId": "772bbb75-915c-44ff-8f5f-cca3eb60a2d0"
      },
      "source": [
        "#tanda '+' bisa digunakan untuk kontatinasi untuk type string\n",
        "var = \"2019\"\n",
        "print(\"Digital talent: \" + var)"
      ],
      "execution_count": 27,
      "outputs": [
        {
          "output_type": "stream",
          "text": [
            "Digital talent: 2019\n"
          ],
          "name": "stdout"
        }
      ]
    },
    {
      "cell_type": "code",
      "metadata": {
        "id": "QZMDl1J_kmrl",
        "colab_type": "code",
        "colab": {
          "base_uri": "https://localhost:8080/",
          "height": 51
        },
        "outputId": "ea8288c9-70c7-4b9c-a7c9-22685c55a094"
      },
      "source": [
        "#menetapkan  nilai baru ke dalam variabel yang telah ada \n",
        "#menugaskan variabel\n",
        "\n",
        "var = 1\n",
        "print(var)\n",
        "var = var + 1\n",
        "print(var)"
      ],
      "execution_count": 28,
      "outputs": [
        {
          "output_type": "stream",
          "text": [
            "1\n",
            "2\n"
          ],
          "name": "stdout"
        }
      ]
    },
    {
      "cell_type": "code",
      "metadata": {
        "id": "q3tG4Reskmrx",
        "colab_type": "code",
        "colab": {
          "base_uri": "https://localhost:8080/",
          "height": 34
        },
        "outputId": "da1546b9-70b8-4eae-94ed-4b1f397ca42b"
      },
      "source": [
        "var = 100\n",
        "var = 200 + 300\n",
        "print(var)"
      ],
      "execution_count": 29,
      "outputs": [
        {
          "output_type": "stream",
          "text": [
            "500\n"
          ],
          "name": "stdout"
        }
      ]
    },
    {
      "cell_type": "markdown",
      "metadata": {
        "id": "-IhyMVRwkmr4",
        "colab_type": "text"
      },
      "source": [
        "### Latihan\n",
        "Tulis rumus ini dalam kode program:<br/> $c=\\sqrt{a^2+b^2}$"
      ]
    },
    {
      "cell_type": "code",
      "metadata": {
        "id": "SnGZSWLKkmr6",
        "colab_type": "code",
        "colab": {
          "base_uri": "https://localhost:8080/",
          "height": 34
        },
        "outputId": "4629133d-2e94-47a9-c937-6cc5737e9bc0"
      },
      "source": [
        "a = 3.0\n",
        "b = 4.0\n",
        "c = (a ** 2 + b ** 2) ** 0.5\n",
        "print(\"c =\", c)"
      ],
      "execution_count": 30,
      "outputs": [
        {
          "output_type": "stream",
          "text": [
            "c = 5.0\n"
          ],
          "name": "stdout"
        }
      ]
    },
    {
      "cell_type": "markdown",
      "metadata": {
        "id": "6Yga-ihlkmsC",
        "colab_type": "text"
      },
      "source": [
        "### Lab\n",
        "\n",
        "<b>Cerita Pendek:</b> \n",
        "\n",
        "Suatu waktu di kebun apel, Guntur memiliki 3 apel, Icha memiliki 5 apel dan Ratna memiliki 6 Apel. mereka sangat bahagia dan hidup lama. selesai.\n",
        "\n",
        "Tugas Anda\n",
        "- buat variabe : `Guntur`, `Icha` dan `Ratna`\n",
        "- isi nilai sesuai dengan jumlah apel yang mereka miliki\n",
        "- cetak nama variabel dan jumlah apel setiap variabel dalam 1 baris, pisahkan dengan koma\n",
        "- buat variabel baru dengan nama `totalApel` yang berisi penjumlahan seluruh apel yang mereka miliki\n",
        "- coba otak atik code dengan membuat variable baru, diisi dengan nilai lain, dan dihitung dengan operator aritmetik lainnya\n"
      ]
    },
    {
      "cell_type": "code",
      "metadata": {
        "id": "rk42ZOi-kmsD",
        "colab_type": "code",
        "colab": {
          "base_uri": "https://localhost:8080/",
          "height": 85
        },
        "outputId": "b9166189-b016-443d-feab-4008d442494a"
      },
      "source": [
        "Guntur = 3\n",
        "Icha = 5\n",
        "Ratna = 6\n",
        "\n",
        "print(\"Apel milik Guntur\",Guntur)\n",
        "print(\"Apel milik Guntur\",Icha)\n",
        "print(\"Apel milik Guntur\",Ratna)\n",
        "\n",
        "totalApel = Guntur + Icha + Ratna\n",
        "print(\"Total number of apples: \" , totalApel)"
      ],
      "execution_count": 31,
      "outputs": [
        {
          "output_type": "stream",
          "text": [
            "Apel milik Guntur 3\n",
            "Apel milik Guntur 5\n",
            "Apel milik Guntur 6\n",
            "Total number of apples:  14\n"
          ],
          "name": "stdout"
        }
      ]
    },
    {
      "cell_type": "code",
      "metadata": {
        "id": "0zphpBdhkmsK",
        "colab_type": "code",
        "colab": {
          "base_uri": "https://localhost:8080/",
          "height": 68
        },
        "outputId": "0b8412c2-5320-42ef-df0b-71e94f9336a6"
      },
      "source": [
        "#Jalan Pintas operator\n",
        "\n",
        "sheep = 5\n",
        "sheep = sheep + 1\n",
        "print(sheep)\n",
        "\n",
        "sheep += 3\n",
        "print(sheep)\n",
        "\n",
        "sheep *= 2\n",
        "print(sheep)"
      ],
      "execution_count": 32,
      "outputs": [
        {
          "output_type": "stream",
          "text": [
            "6\n",
            "9\n",
            "18\n"
          ],
          "name": "stdout"
        }
      ]
    },
    {
      "cell_type": "markdown",
      "metadata": {
        "id": "fovaPzcekmsP",
        "colab_type": "text"
      },
      "source": [
        "### Lab\n",
        "\n",
        "Mil dan kilometer adalah satuan panjang\n",
        "\n",
        "1 mil memiliki panjang sekitar 1.61 kilometer, buatlah program konversi di bawah ini\n",
        "- mil ke kilometer;\n",
        "- kilometer to mil.\n",
        "jangan ganti apapun terhadap kode yang sudah ada. tulis kodemu pada tanda ###, kemudian hapus tanda tersebut. Uji kode Anda dengan data yang kami sajikan dalam source code\n"
      ]
    },
    {
      "cell_type": "markdown",
      "metadata": {
        "id": "bL9Vdv8IkmsQ",
        "colab_type": "text"
      },
      "source": [
        "Kode:\n",
        "```python\n",
        "kilometer = 12.25\n",
        "mil = 7.38\n",
        "\n",
        "mil_ke_kilometer = ###\n",
        "kilometer_ke_mil = ###\n",
        "\n",
        "print(mil, \"1 mil adalah\", round(miles_to_kilometers, 2), \"kilometer\")\n",
        "print(kilometer, \"1 kilometer adalah\", round(kilometers_to_miles, 2), \"mil\")\n",
        "```"
      ]
    },
    {
      "cell_type": "code",
      "metadata": {
        "id": "NrnyizaZkmsR",
        "colab_type": "code",
        "colab": {
          "base_uri": "https://localhost:8080/",
          "height": 68
        },
        "outputId": "b5b2753e-22e4-4033-dab0-4a87aecaf09b"
      },
      "source": [
        "kilometer = 12.25\n",
        "mil = 7.61\n",
        "print(kilometer/mil)\n",
        "\n",
        "mil_ke_kilometer = mil * 1.61\n",
        "kilometer_ke_mil = kilometer / 1.61\n",
        "\n",
        "print(mil, \"mil adalah\", round(mil_ke_kilometer, 2), \"kilometer\")\n",
        "print(kilometer, \"kilometer adalah\", round(kilometer_ke_mil, 2), \"mil\")"
      ],
      "execution_count": 34,
      "outputs": [
        {
          "output_type": "stream",
          "text": [
            "1.609724047306176\n",
            "7.61 mil adalah 12.25 kilometer\n",
            "12.25 kilometer adalah 7.61 mil\n"
          ],
          "name": "stdout"
        }
      ]
    },
    {
      "cell_type": "markdown",
      "metadata": {
        "id": "4h5Ri2CbkmsY",
        "colab_type": "text"
      },
      "source": [
        "### Lab\n",
        "\n",
        "Skenario\n",
        "lihatlah kode dalam editor, nilai tersebut termasuk tipe float, letakkan nilai tersebut dalam variabel x, dan print variabel tersebut dalam variabel y. Tugasmu adalah melengkapi kode di bawah ini untk menyelesaikan persamaan di bawah\n",
        "\n",
        "$3x^3 - 2x^2 + 3x - 1$\n",
        "\n",
        "Hasil harus disimpan dalam variabel y.\n",
        "ingat bahwa aljabar klasik sering menghilangkan operator perkalian, kamu harus menggunakannya secara eksplisit. Ingat bagaimana cara mengubah tipe data untuk memastikan bahwa x bertipe float.\n",
        "\n",
        "usahakan kodemu mudah dibaca, uji kode dengan data yang telah kami berikan.\n",
        "\n",
        "```python\n",
        "x =  # hardcode your test data here\n",
        "x = float(x)\n",
        "# tulis kodemu disini\n",
        "print(\"y =\", y)\n",
        "```\n",
        "\n",
        "Test Data:\n",
        "```python\n",
        "#input\n",
        "x = 0\n",
        "x = 1\n",
        "x = -1\n",
        "\n",
        "#output\n",
        "y = -1.0\n",
        "y = 3.0\n",
        "y = -9.0\n",
        "```"
      ]
    },
    {
      "cell_type": "code",
      "metadata": {
        "id": "N0_eSbJckmsZ",
        "colab_type": "code",
        "colab": {
          "base_uri": "https://localhost:8080/",
          "height": 34
        },
        "outputId": "12ea34bf-3062-420c-ac34-3c7dd0dddde1"
      },
      "source": [
        "x = -1\n",
        "x = float(x)\n",
        "y = 3*x**3 - 2*x**2 + 3*x -1\n",
        "print(\"y =\", y)"
      ],
      "execution_count": 35,
      "outputs": [
        {
          "output_type": "stream",
          "text": [
            "y = -9.0\n"
          ],
          "name": "stdout"
        }
      ]
    },
    {
      "cell_type": "markdown",
      "metadata": {
        "id": "oCv3uLvmkmsf",
        "colab_type": "text"
      },
      "source": [
        "### Exercise\n",
        "\n",
        "Apa outputnya?\n",
        "```python\n",
        "var = 2\n",
        "var = 3\n",
        "print(var)\n",
        "```\n",
        "\n",
        "Nama variabel mana yang ilegal?\n",
        "```python\n",
        "my_var\n",
        "m\n",
        "101\n",
        "averylongvariablename\n",
        "m101\n",
        "m 101\n",
        "Del\n",
        "del\n",
        "```\n",
        "\n",
        "Apa Outputnya?\n",
        "```python\n",
        "a = '1'\n",
        "b = \"1\"\n",
        "print(a + b)\n",
        "```\n",
        "\n",
        "Apa outputnya?\n",
        "\n",
        "```python\n",
        "a = 6\n",
        "b = 3\n",
        "a /= 2 * b\n",
        "print(a)\n",
        "```"
      ]
    },
    {
      "cell_type": "markdown",
      "metadata": {
        "id": "K7CEU4lkC0ED",
        "colab_type": "text"
      },
      "source": [
        "Excercise Answer"
      ]
    },
    {
      "cell_type": "code",
      "metadata": {
        "id": "UzzKreYYCq_i",
        "colab_type": "code",
        "colab": {
          "base_uri": "https://localhost:8080/",
          "height": 34
        },
        "outputId": "e716c164-1511-4520-8a86-c015e137595f"
      },
      "source": [
        "var = 2\n",
        "var = 3\n",
        "print(var)"
      ],
      "execution_count": 37,
      "outputs": [
        {
          "output_type": "stream",
          "text": [
            "3\n"
          ],
          "name": "stdout"
        }
      ]
    },
    {
      "cell_type": "code",
      "metadata": {
        "id": "viGnjYVtC6pQ",
        "colab_type": "code",
        "colab": {
          "base_uri": "https://localhost:8080/",
          "height": 102
        },
        "outputId": "88df378d-815e-44c9-e4b8-c908ce7f1c8c"
      },
      "source": [
        "my_var=2\n",
        "print(my_var)\n",
        "m=2\n",
        "print(m)\n",
        "#101 [TIDAK BOLEH BILANGAN]\n",
        "averylongvariablename=2\n",
        "print(averylongvariablename)\n",
        "m101=2\n",
        "print(m101)\n",
        "#m 101 [MENGGUNAKAN SPASI]\n",
        "Del=2\n",
        "print(Del)\n",
        "#del [NAMA FUNGSI SUDHA DIPAKAI DI PYTHON]"
      ],
      "execution_count": 42,
      "outputs": [
        {
          "output_type": "stream",
          "text": [
            "2\n",
            "2\n",
            "2\n",
            "2\n",
            "2\n"
          ],
          "name": "stdout"
        }
      ]
    },
    {
      "cell_type": "markdown",
      "metadata": {
        "id": "SSJJmqIxkmsg",
        "colab_type": "text"
      },
      "source": [
        "# 2.1.5 Comments\n",
        "Latihan: mana yang seharusnya menjadi komentar, mana yang tidak"
      ]
    },
    {
      "cell_type": "code",
      "metadata": {
        "id": "hvlTMzW3kmsj",
        "colab_type": "code",
        "colab": {
          "base_uri": "https://localhost:8080/",
          "height": 51
        },
        "outputId": "e3f2791b-40b7-4839-d278-f4e49f5df5e6"
      },
      "source": [
        "#this program computes the number of seconds in a given number of hours\n",
        "# this program has been written two days ago\n",
        "\n",
        "a = 2 # number of hours\n",
        "seconds = 3600 # number of seconds in 1 hour\n",
        "\n",
        "print(\"Hours: \", a) #printing the number of hours\n",
        "print(\"Seconds in Hours: \", a * seconds) # printing the number of seconds in a given number of hours\n",
        "\n",
        "#here we should also print \"Goodbye\", but a programmer didn't have time to write any code\n",
        "#this is the end of the program that computes the number of seconds in 3 hour\n"
      ],
      "execution_count": 44,
      "outputs": [
        {
          "output_type": "stream",
          "text": [
            "Hours:  2\n",
            "Seconds in Hours:  7200\n"
          ],
          "name": "stdout"
        }
      ]
    },
    {
      "cell_type": "markdown",
      "metadata": {
        "id": "JRrk5dbnkmso",
        "colab_type": "text"
      },
      "source": [
        "# 2.1.6 How to talk to a computer \n",
        "katakunci `input()`<br/>\n",
        "hasil dari fungsi `input()` adalah <b>string</b>.<br/>\n",
        "Tidak bisa langsung dikenakan ke operasi aritmetika"
      ]
    },
    {
      "cell_type": "code",
      "metadata": {
        "id": "CTn-kPuokmsu",
        "colab_type": "code",
        "colab": {
          "base_uri": "https://localhost:8080/",
          "height": 68
        },
        "outputId": "c2b75834-9d18-4a77-c7b0-2d40fad7501a"
      },
      "source": [
        "print(\"Tell me anything...\")\n",
        "anything = input()\n",
        "print(\"Hmm...\", anything, \"... Really?\")\n"
      ],
      "execution_count": 45,
      "outputs": [
        {
          "output_type": "stream",
          "text": [
            "Tell me anything...\n",
            "Rindu\n",
            "Hmm... Rindu ... Really?\n"
          ],
          "name": "stdout"
        }
      ]
    },
    {
      "cell_type": "code",
      "metadata": {
        "id": "BS6WjoMikmsz",
        "colab_type": "code",
        "colab": {
          "base_uri": "https://localhost:8080/",
          "height": 51
        },
        "outputId": "9a75217b-75b7-4e7c-ef57-3340a786ab64"
      },
      "source": [
        "angka = float(input(\"Masukkan Angka...\"))\n",
        "print(\"Pangkat duanya adalah\", angka**2)\n"
      ],
      "execution_count": 48,
      "outputs": [
        {
          "output_type": "stream",
          "text": [
            "Masukkan Angka...5\n",
            "Pangkat duanya adalah 25.0\n"
          ],
          "name": "stdout"
        }
      ]
    },
    {
      "cell_type": "markdown",
      "metadata": {
        "id": "6gV6E7o3kms4",
        "colab_type": "text"
      },
      "source": [
        "### type casting"
      ]
    },
    {
      "cell_type": "code",
      "metadata": {
        "id": "0eLpoyGDkms-",
        "colab_type": "code",
        "colab": {
          "base_uri": "https://localhost:8080/",
          "height": 51
        },
        "outputId": "9c36eb7a-0779-441f-b20c-e81928b090f9"
      },
      "source": [
        "angka = float(input(\"Masukkan Angka...\"))\n",
        "print(\"Pangkat duanya adalah\", angka**2)\n"
      ],
      "execution_count": 50,
      "outputs": [
        {
          "output_type": "stream",
          "text": [
            "Masukkan Angka...5\n",
            "Pangkat duanya adalah 25.0\n"
          ],
          "name": "stdout"
        }
      ]
    },
    {
      "cell_type": "code",
      "metadata": {
        "id": "GJJzjn1IkmtF",
        "colab_type": "code",
        "colab": {
          "base_uri": "https://localhost:8080/",
          "height": 68
        },
        "outputId": "1b7ffbfa-4389-4603-baaa-b2223b141c05"
      },
      "source": [
        "leg_a = float(input(\"Input first leg length: \"))\n",
        "leg_b = float(input(\"Input second leg length: \"))\n",
        "hypo = (leg_a**2 + leg_b**2) ** .5\n",
        "print(\"Hypotenuse length is\", hypo)\n"
      ],
      "execution_count": 51,
      "outputs": [
        {
          "output_type": "stream",
          "text": [
            "Input first leg length: 2\n",
            "Input second leg length: 5\n",
            "Hypotenuse length is 5.385164807134504\n"
          ],
          "name": "stdout"
        }
      ]
    },
    {
      "cell_type": "code",
      "metadata": {
        "id": "FUr6mFkmkmtX",
        "colab_type": "code",
        "colab": {
          "base_uri": "https://localhost:8080/",
          "height": 102
        },
        "outputId": "c4448e90-2464-4a0c-df86-965247c9a3ab"
      },
      "source": [
        "fnam = input(\"May I have your first name, please? \")\n",
        "lnam = input(\"May I have your last name, please? \")\n",
        "print(\"Thank you.\")\n",
        "print(\"\\nYour name is \" + fnam + \" \" + lnam + \".\")\n"
      ],
      "execution_count": 52,
      "outputs": [
        {
          "output_type": "stream",
          "text": [
            "May I have your first name, please? Joko\n",
            "May I have your last name, please? Eliyanto\n",
            "Thank you.\n",
            "\n",
            "Your name is Joko Eliyanto.\n"
          ],
          "name": "stdout"
        }
      ]
    },
    {
      "cell_type": "code",
      "metadata": {
        "id": "zTMTGDOxkmtd",
        "colab_type": "code",
        "colab": {
          "base_uri": "https://localhost:8080/",
          "height": 136
        },
        "outputId": "a5d064a9-9300-4c37-d63a-b0467617110b"
      },
      "source": [
        "#Replication\n",
        "\n",
        "print(\"+\" + 10 * \"-\" + \"+\")\n",
        "print((\"|\" + \" \" * 10 + \"|\\n\") * 5, end=\"\")\n",
        "print(\"+\" + 10 * \"-\" + \"+\")\n"
      ],
      "execution_count": 53,
      "outputs": [
        {
          "output_type": "stream",
          "text": [
            "+----------+\n",
            "|          |\n",
            "|          |\n",
            "|          |\n",
            "|          |\n",
            "|          |\n",
            "+----------+\n"
          ],
          "name": "stdout"
        }
      ]
    },
    {
      "cell_type": "code",
      "metadata": {
        "id": "CsoUj29Ckmtl",
        "colab_type": "code",
        "colab": {
          "base_uri": "https://localhost:8080/",
          "height": 68
        },
        "outputId": "7e115884-4048-4915-8158-b93e28b2e524"
      },
      "source": [
        "leg_a = float(input(\"Input first leg length: \"))\n",
        "leg_b = float(input(\"Input second leg length: \"))\n",
        "print(\"Hypotenuse length is \" + str((leg_a**2 + leg_b**2) ** .5))\n"
      ],
      "execution_count": 55,
      "outputs": [
        {
          "output_type": "stream",
          "text": [
            "Input first leg length: 2\n",
            "Input second leg length: 3\n",
            "Hypotenuse length is 3.605551275463989\n"
          ],
          "name": "stdout"
        }
      ]
    },
    {
      "cell_type": "markdown",
      "metadata": {
        "id": "9xboL1I5kmtv",
        "colab_type": "text"
      },
      "source": [
        "### Lab\n",
        "Coba utak atik perintah kode dibawah ini\n",
        "``` python\n",
        "# Masukkan nilai a dalam float\n",
        "# Masukkan nilai b dalam float\n",
        "\n",
        "# hitung hasil penambahan disini\n",
        "# hitung hasil pengurangan disini\n",
        "# hitung hasil perkalian disini\n",
        "# hitung hasil pembagian disini\n",
        "\n",
        "\n",
        "print(\"\\nYeahhhh\")\n",
        "```"
      ]
    },
    {
      "cell_type": "code",
      "metadata": {
        "id": "fycvNyf4kmtw",
        "colab_type": "code",
        "colab": {
          "base_uri": "https://localhost:8080/",
          "height": 153
        },
        "outputId": "fddf030f-715d-4a1d-99fb-651be4bab912"
      },
      "source": [
        "a = float(input(\"Masukkan a = \"))\n",
        "b = float(input(\"Masukkan b = \"))\n",
        "\n",
        "print(\"a+b = \",a+b)\n",
        "print(\"a-b = \",a-b)\n",
        "print(\"a*b = \",a*b)\n",
        "print(\"a/b = \",a/b)\n",
        "print(\"\\nYeahhhh!\")\n"
      ],
      "execution_count": 57,
      "outputs": [
        {
          "output_type": "stream",
          "text": [
            "Masukkan a = 2\n",
            "Masukkan b = 3\n",
            "a+b =  5.0\n",
            "a-b =  -1.0\n",
            "a*b =  6.0\n",
            "a/b =  0.6666666666666666\n",
            "\n",
            "Yeahhhh!\n"
          ],
          "name": "stdout"
        }
      ]
    },
    {
      "cell_type": "markdown",
      "metadata": {
        "id": "LcacaYKMkmt3",
        "colab_type": "text"
      },
      "source": [
        "### Lab\n",
        "Kerjakan rumus berikut:\n",
        "\n",
        "$$\\frac{1}{x+\\frac{1}{x+\\frac{1}{x+\\frac{1}{x}}}}$$\n",
        "\n",
        "input/output yang diharapkan\n",
        "```python\n",
        "x = 1\n",
        "y = 0.6000000000000001\n",
        "\n",
        "x = 10\n",
        "y = 0.09901951266867294\n",
        "```"
      ]
    },
    {
      "cell_type": "code",
      "metadata": {
        "id": "pO-lGcXkkmt3",
        "colab_type": "code",
        "colab": {
          "base_uri": "https://localhost:8080/",
          "height": 51
        },
        "outputId": "cd9aa760-b707-4a96-b2ad-ce52ee315d4e"
      },
      "source": [
        "x = float(input(\"Enter value for x: \"))\n",
        "y = 1/(x+1/(x+1/(x+1/x)))\n",
        "\n",
        "print(\"y =\", y)\n"
      ],
      "execution_count": 58,
      "outputs": [
        {
          "output_type": "stream",
          "text": [
            "Enter value for x: 1\n",
            "y = 0.6000000000000001\n"
          ],
          "name": "stdout"
        }
      ]
    },
    {
      "cell_type": "markdown",
      "metadata": {
        "id": "W5DWeKsikmt8",
        "colab_type": "text"
      },
      "source": [
        "### Lab\n",
        "Tugasmu adalah mempersiapkan kode simpel untuk menentukan waktu akhir/selesai sebuah kegiatan. Diberikan variabel durasi waktu dalam menit dan waktu mulai dalam jam (0..23)dan menit (0..59). hasilnya harus dicetak dalam console\n",
        "\n",
        "sebagai contoh, jika suatu kegiatan dimulai pukul `12:17` dan berlangsung selama `59 minutes` , maka kegiatan tersebut tersebut akan selesai pukul `13:16`\n",
        "\n",
        "jangan takut kalau kodemu belum sempurna, tidak masalah waktunya terlihat tidak valid, yang terpenting kodenya dapat menghasilkan nilai yang valid berdasarkan data input.\n",
        "\n",
        "Kode Dasar:\n",
        "```python\n",
        "jam = int(input(\"waktu mulai (jam): \"))\n",
        "menit = int(input(\"waktu mulai (menit): \"))\n",
        "durasi= int(input(\"durasi kegiatan (minutes): \"))\n",
        "\n",
        "# Letakkan kodemu disini\n",
        "```\n",
        "Uji Kodemu, Petunjuk ! gunakan operator % sebagai kunci suksesmu\n",
        ",,"
      ]
    },
    {
      "cell_type": "code",
      "metadata": {
        "id": "N7Cvt7ECkmt9",
        "colab_type": "code",
        "colab": {
          "base_uri": "https://localhost:8080/",
          "height": 85
        },
        "outputId": "421a0bd4-7bc3-4d7f-db85-1aae58e95ef4"
      },
      "source": [
        "# coba di cek lagi\n",
        "\n",
        "jam = int(input(\"waktu mulai (jam): \"))\n",
        "menit = int(input(\"waktu mulai (menit): \"))\n",
        "durasi = int(input(\"durasi kegiatan (menit): \"))\n",
        "\n",
        "tambah_menit = menit + durasi\n",
        "tambah_jam = int(tambah_menit / 60)\n",
        "\n",
        "jam += tambah_jam\n",
        "menit = tambah_menit % 60\n",
        "\n",
        "print(str(jam%24)+':'+str(menit))"
      ],
      "execution_count": 59,
      "outputs": [
        {
          "output_type": "stream",
          "text": [
            "waktu mulai (jam): 2\n",
            "waktu mulai (menit): 50\n",
            "durasi kegiatan (menit): 4\n",
            "2:54\n"
          ],
          "name": "stdout"
        }
      ]
    }
  ]
}
